{
  "nbformat": 4,
  "nbformat_minor": 0,
  "metadata": {
    "colab": {
      "provenance": []
    },
    "kernelspec": {
      "name": "python3",
      "display_name": "Python 3"
    },
    "language_info": {
      "name": "python"
    }
  },
  "cells": [
    {
      "cell_type": "code",
      "source": [
        "from sklearn.metrics import adjusted_rand_score, normalized_mutual_info_score\n",
        "\n",
        "kmeans_ari = adjusted_rand_score(labels, assignments)\n",
        "kmeans_nmi = normalized_mutual_info_score(labels, assignments)\n",
        "\n",
        "print(f\"k-means ARI: {kmeans_ari:.2f}, NMI: {kmeans_nmi:.2f}\")"
      ],
      "metadata": {
        "colab": {
          "base_uri": "https://localhost:8080/"
        },
        "id": "bCVzCR287rOV",
        "outputId": "beb86f1d-96c9-4baa-d801-3ebe4d590584"
      },
      "execution_count": 4,
      "outputs": [
        {
          "output_type": "stream",
          "name": "stdout",
          "text": [
            "k-means ARI: 0.59, NMI: 0.73\n"
          ]
        }
      ]
    }
  ]
}