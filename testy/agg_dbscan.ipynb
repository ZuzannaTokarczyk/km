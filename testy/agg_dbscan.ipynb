{
  "nbformat": 4,
  "nbformat_minor": 0,
  "metadata": {
    "colab": {
      "provenance": []
    },
    "kernelspec": {
      "name": "python3",
      "display_name": "Python 3"
    },
    "language_info": {
      "name": "python"
    }
  },
  "cells": [
    {
      "cell_type": "code",
      "source": [
        "from sklearn.cluster import AgglomerativeClustering, DBSCAN\n",
        "\n",
        "# Klasteryzacja hierarchiczna\n",
        "agg = AgglomerativeClustering(n_clusters=num_clusters)\n",
        "agg_assignments = agg.fit_predict(data)\n",
        "agg_ari = adjusted_rand_score(labels, agg_assignments)\n",
        "agg_nmi = normalized_mutual_info_score(labels, agg_assignments)\n",
        "print(f\"Agglomerative Clustering ARI: {agg_ari:.2f}, NMI: {agg_nmi:.2f}\")\n",
        "\n",
        "# Klasteryzacja DBSCAN\n",
        "dbscan = DBSCAN(eps=15, min_samples=5)\n",
        "dbscan_assignments = dbscan.fit_predict(data)\n",
        "\n",
        "dbscan_assignments[dbscan_assignments == -1] = num_clusters  # Oznaczamy szum jako nowy klaster\n",
        "\n",
        "dbscan_ari = adjusted_rand_score(labels, dbscan_assignments)\n",
        "dbscan_nmi = normalized_mutual_info_score(labels, dbscan_assignments)\n",
        "print(f\"DBSCAN ARI: {dbscan_ari:.2f}, NMI: {dbscan_nmi:.2f}\")"
      ],
      "metadata": {
        "colab": {
          "base_uri": "https://localhost:8080/"
        },
        "id": "cfvtcn4Y7tM2",
        "outputId": "fd9e5ad6-6005-44d2-90d6-bdf2e0a910bd"
      },
      "execution_count": 5,
      "outputs": [
        {
          "output_type": "stream",
          "name": "stdout",
          "text": [
            "Agglomerative Clustering ARI: 0.79, NMI: 0.87\n",
            "DBSCAN ARI: 0.01, NMI: 0.21\n"
          ]
        }
      ]
    }
  ]
}