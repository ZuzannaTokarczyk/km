{
  "nbformat": 4,
  "nbformat_minor": 0,
  "metadata": {
    "colab": {
      "provenance": []
    },
    "kernelspec": {
      "name": "python3",
      "display_name": "Python 3"
    },
    "language_info": {
      "name": "python"
    }
  },
  "cells": [
    {
      "cell_type": "code",
      "source": [
        "import unittest\n",
        "\n",
        "class TestKMeansFunctions(unittest.TestCase):\n",
        "\n",
        "    def test_update_assignments(self):\n",
        "        data = np.array([[1, 2], [2, 3], [3, 4]])\n",
        "        centroids = np.array([[1, 2], [4, 5]])\n",
        "        assignments = update_assignments(data, centroids)\n",
        "        expected_assignments = [0, 0, 1]\n",
        "        self.assertEqual(assignments, expected_assignments)\n",
        "\n",
        "    def test_update_centroids(self):\n",
        "        data = np.array([[1, 2], [2, 3], [3, 4]])\n",
        "        assignments = [0, 0, 1]\n",
        "        new_centroids = update_centroids(data, 2, assignments)\n",
        "        expected_centroids = np.array([[1.5, 2.5], [3, 4]])\n",
        "        np.testing.assert_array_almost_equal(new_centroids, expected_centroids)\n",
        "\n",
        "if __name__ == '__main__':\n",
        "    unittest.main(argv=[''], exit=False)"
      ],
      "metadata": {
        "colab": {
          "base_uri": "https://localhost:8080/"
        },
        "id": "1BKO2lez7osa",
        "outputId": "d13d0b83-ecc6-45ef-c1ca-b6a48209ac87"
      },
      "execution_count": 3,
      "outputs": [
        {
          "output_type": "stream",
          "name": "stderr",
          "text": [
            "..\n",
            "----------------------------------------------------------------------\n",
            "Ran 2 tests in 0.076s\n",
            "\n",
            "OK\n"
          ]
        }
      ]
    }
  ]
}
